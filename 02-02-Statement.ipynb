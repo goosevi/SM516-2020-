{
 "cells": [
  {
   "cell_type": "markdown",
   "metadata": {},
   "source": [
    "# <center> Statement"
   ]
  },
  {
   "cell_type": "markdown",
   "metadata": {},
   "source": [
    "<img src=\"https://drive.google.com/uc?id=111GIa1-kzbDoYfZwMCjRgtyPO5QCZWQT\" align=right width=100>"
   ]
  },
  {
   "cell_type": "markdown",
   "metadata": {},
   "source": [
    "<div align=right>จิโรจ ทองศรีเปล่ง<br>รหัสนักศึกษา 1710511104008</div>"
   ]
  },
  {
   "cell_type": "markdown",
   "metadata": {},
   "source": [
    "**ลำดับขั้นโดยหลักการของไพธอน (The Python Conceptual Hierarchy)**\n",
    "\n",
    "1. Programs are composed of modules.\n",
    "2. Modules contain statements.\n",
    "3. Statements contain expressions.\n",
    "4. Expressions create and process objects."
   ]
  },
  {
   "cell_type": "markdown",
   "metadata": {},
   "source": [
    "## Python Statement"
   ]
  },
  {
   "cell_type": "markdown",
   "metadata": {},
   "source": [
    "<table>\n",
    "    <tr>\n",
    "        <td><div align=center><b>Statement</b></div>\n",
    "        <td><div align=center><b>หน้าที่ (Role) </b></div>\n",
    "        <td><div align=center><b>ตัวอย่าง (Example) </b></div>\n",
    "     <tr>\n",
    "         <td><div align=left>Assignment<br>การให้ค่า</div>\n",
    "         <td><div align=left>Creating references<br>สร้างการชี้ไปที่ค่า</div> \n",
    "         <td><div align=left><code>a, b = 'good', 'bad'</code><br>\n",
    "            ทางขวามือเรียกว่า Literals</div>\n",
    "     <tr>\n",
    "         <td><div align=left>print \n",
    "         <td><div align=left>calls Printing objects \n",
    "         <td><div align=left><code>print('The Killer', joke)</code>\n",
    "     <tr>\n",
    "         <td><div align=left>if/elif/else \n",
    "         <td><div align=left>Selecting actions \n",
    "         <td><div align=left><code>if \"python\" in text:\n",
    "    print(text)</code>\n",
    "     <tr>\n",
    "         <td><div align=left>for/else \n",
    "         <td><div align=left>Iteration \n",
    "         <td><div align=left><code>for x in mylist:\n",
    "    print(x)</code>\n",
    "     <tr>\n",
    "         <td><div align=left>while/else \n",
    "         <td><div align=left>General loops \n",
    "         <td><div align=left><code>while X > Y:\n",
    "    print('hello')</code>\n",
    "     <tr>\n",
    "         <td><div align=left>pass \n",
    "         <td><div align=left>Empty placeholder \n",
    "         <td><div align=left><code>while True:\n",
    "    pass</code>\n",
    "     <tr>\n",
    "         <td><div align=left>break \n",
    "         <td><div align=left>Loop exit \n",
    "         <td><div align=left><code>while True:\n",
    "    if exittest(): \n",
    "        break</code>\n",
    "     <tr>\n",
    "         <td><div align=left>continue \n",
    "         <td><div align=left>Loop continue \n",
    "         <td><div align=left><code>while True:\n",
    "    if skiptest(): \n",
    "        continue</code>\n",
    "     <tr>\n",
    "         <td><div align=left>def \n",
    "         <td><div align=left>Functions and methods \n",
    "         <td><div align=left><code>def f(a, b, c=1, *d):\n",
    "    print(a+b+c+d[0])</code>\n",
    "     <tr>\n",
    "         <td><div align=left>return \n",
    "         <td><div align=left>Functions results\n",
    "         <td><div align=left><code>def f(a, b, c=1, *d):\n",
    "    return a+b+c+d[0]</code>\n",
    "     <tr>\n",
    "         <td><div align=left>yield \n",
    "         <td><div align=left>Generator functions \n",
    "         <td><div align=left><code>def gen(n):\n",
    "    for i in n: yield i*2</code>\n",
    "     <tr>\n",
    "         <td><div align=left>global \n",
    "         <td><div align=left>Namespaces \n",
    "         <td><div align=left><code>x = 'old'\n",
    "def function():\n",
    "    global x, y; x = 'new'</code>\n",
    "     <tr>\n",
    "         <td><div align=left>nonlocal \n",
    "         <td><div align=left>Namespaces (3.X) \n",
    "         <td><div align=left><code>def outer():\n",
    "    x = 'old'\n",
    "    def function():\n",
    "        nonlocal x; x = 'new'</code>\n",
    "     <tr>\n",
    "         <td><div align=left>import \n",
    "         <td><div align=left>Module access \n",
    "         <td><div align=left><code>import sys</code>\n",
    "     <tr>\n",
    "         <td><div align=left>from \n",
    "         <td><div align=left>Attribute access \n",
    "             <td><div align=left><code>from sys import stdin</code>\n",
    "     <tr>\n",
    "         <td><div align=left>class \n",
    "         <td><div align=left>Building objects \n",
    "         <td><div align=left><code>class Subclass(Superclass):\n",
    "    staticData = []\n",
    "    def method(self): pass</code>\n",
    "     <tr>\n",
    "         <td><div align=left>try/except/finally \n",
    "         <td><div align=left>Catching exceptions \n",
    "         <td><div align=left><code>try:\n",
    "    action()\n",
    "except:\n",
    "    print('action error')</code>\n",
    "     <tr>\n",
    "         <td><div align=left>raise \n",
    "         <td><div align=left>Triggering exceptions \n",
    "         <td><div align=left><code>raise EndSearch(location)</code>\n",
    "     <tr>\n",
    "         <td><div align=left>assert \n",
    "         <td><div align=left>Debugging checks \n",
    "         <td><div align=left><code>assert X > Y, 'X too small'</code>\n",
    "     <tr>\n",
    "         <td><div align=left>with/as \n",
    "         <td><div align=left>Context managers (3.X, 2.6+) \n",
    "         <td><div align=left><code>with open('data') as myfile:</code>\n",
    "    process(myfile)</code>\n",
    "      <tr>\n",
    "         <td><div align=left>del \n",
    "         <td><div align=left>Deleting references \n",
    "         <td><div align=left><code>del data[k]\n",
    " del data[i:j]\n",
    " del obj.attr\n",
    " del variable</code>\n",
    "</table>"
   ]
  },
  {
   "cell_type": "markdown",
   "metadata": {},
   "source": [
    "Statement บน Python มีลักษณะสำคัญ\n",
    "\n",
    "1. ใช้กั้นหน้า (Indent) บอก Statement ระดับของกั้นหน้า ตามเครื่องหมายทวิภาค (:)\n",
    "1. หลีกเลี่ยงการใช้วงเล็บ \"( )\" วงเล็บใช้กับตัวเก็บ (Container) แบบ Tuple"
   ]
  },
  {
   "cell_type": "code",
   "execution_count": null,
   "metadata": {},
   "outputs": [],
   "source": [
    ":\n",
    "    :\n",
    "        :\n",
    "            :\n",
    "                "
   ]
  },
  {
   "cell_type": "markdown",
   "metadata": {},
   "source": [
    "กั้นหน้าทำให้ Code ของ Python อ่านง่าย ทำให้ Python เป็นที่นิยมใช้กันทั่วไป"
   ]
  },
  {
   "cell_type": "markdown",
   "metadata": {},
   "source": [
    "## The Assignment Statement"
   ]
  },
  {
   "cell_type": "markdown",
   "metadata": {},
   "source": [
    "### Assignment Statement Forms"
   ]
  },
  {
   "cell_type": "markdown",
   "metadata": {},
   "source": [
    "<table>\n",
    "    <tr>\n",
    "        <td><div align=center><b>Operation</b>\n",
    "        <td><div align=center><b>Interpretation</b>\n",
    "    <tr>\n",
    "        <td><div align=left><code>spam = 'Spam'</code> \n",
    "        <td><div align=left>Basic form\n",
    "    <tr>\n",
    "        <td><div align=left><code>spam, ham = 'yum', 'YUM'</code>\n",
    "        <td><div align=left>Tuple assignment (positional)\n",
    "    <tr>\n",
    "        <td><div align=left><code>[spam, ham] = ['yum', 'YUM']</code>\n",
    "        <td><div align=left>List assignment (positional)\n",
    "    <tr>\n",
    "        <td><div align=left><code>a, b, c, d = 'spam'</code>\n",
    "        <td><div align=left>Sequence assignment, generalized\n",
    "    <tr>\n",
    "        <td><div align=left><code>a, *b = 'spam'</code>\n",
    "        <td><div align=left>Extended sequence unpacking (Python 3.X)\n",
    "    <tr>\n",
    "        <td><div align=left><code>spam = ham = 'lunch'</code>\n",
    "        <td><div align=left>Multiple-target assignment\n",
    "    <tr>\n",
    "        <td><div align=left><code>spams += 42</code>\n",
    "        <td><div align=left>Augmented assignment (equivalent to spams = spams + 42)\n",
    "</table>"
   ]
  },
  {
   "cell_type": "markdown",
   "metadata": {},
   "source": [
    "<pre>\n",
    "<i>\n",
    "target = expression\n",
    "target1 = target2 = expression\n",
    "target1, target2 = expression1, expression2\n",
    "target1 += expression\n",
    "<br>\n",
    "target1, target2, ... = same-length-iterable\n",
    "(target1, target2, ...) = same-length-iterable\n",
    "[target1, target2, ...] = same-length-iterable\n",
    "target1, *target2, ... = matching-length-iterable"
   ]
  },
  {
   "cell_type": "markdown",
   "metadata": {},
   "source": [
    "### Sequence Assignments"
   ]
  },
  {
   "cell_type": "code",
   "execution_count": 1,
   "metadata": {},
   "outputs": [
    {
     "data": {
      "text/plain": [
       "(1, 2)"
      ]
     },
     "execution_count": 1,
     "metadata": {},
     "output_type": "execute_result"
    }
   ],
   "source": [
    "nudge = 1                # Basic assignment\n",
    "wink = 2\n",
    "A, B = nudge, wink       # Tuple assignment\n",
    "A, B"
   ]
  },
  {
   "cell_type": "code",
   "execution_count": 2,
   "metadata": {},
   "outputs": [],
   "source": [
    "[C, D] = [nudge, wink]   # List assignment\n",
    "C, D"
   ]
  },
  {
   "cell_type": "code",
   "execution_count": 3,
   "metadata": {},
   "outputs": [
    {
     "data": {
      "text/plain": [
       "(2, 1)"
      ]
     },
     "execution_count": 3,
     "metadata": {},
     "output_type": "execute_result"
    }
   ],
   "source": [
    "''' การสลับค่า '''\n",
    "\n",
    "nudge = 1\n",
    "wink = 2\n",
    "nudge, wink = wink, nudge        # Tuples: swaps values\n",
    "nudge, wink                      # Like T = nudge; nudge = wink; wink = T"
   ]
  },
  {
   "cell_type": "code",
   "execution_count": 4,
   "metadata": {},
   "outputs": [
    {
     "data": {
      "text/plain": [
       "(1, 3)"
      ]
     },
     "execution_count": 4,
     "metadata": {},
     "output_type": "execute_result"
    }
   ],
   "source": [
    "[a, b, c] = (1, 2, 3)            # Assign tuple of values to list of names\n",
    "a, c"
   ]
  },
  {
   "cell_type": "code",
   "execution_count": 5,
   "metadata": {},
   "outputs": [
    {
     "data": {
      "text/plain": [
       "('A', 'C')"
      ]
     },
     "execution_count": 5,
     "metadata": {},
     "output_type": "execute_result"
    }
   ],
   "source": [
    "(a, b, c) = \"ABC\"                # Assign string of characters to tuple\n",
    "a, c"
   ]
  },
  {
   "cell_type": "markdown",
   "metadata": {},
   "source": [
    "#### Advanced sequence assignment patterns"
   ]
  },
  {
   "cell_type": "code",
   "execution_count": 1,
   "metadata": {},
   "outputs": [
    {
     "data": {
      "text/plain": [
       "('S', 'M')"
      ]
     },
     "execution_count": 1,
     "metadata": {},
     "output_type": "execute_result"
    }
   ],
   "source": [
    "string = 'SPAM'\n",
    "a, b, c, d = string              # Same number on both sides\n",
    "a, d"
   ]
  },
  {
   "cell_type": "code",
   "execution_count": 2,
   "metadata": {},
   "outputs": [
    {
     "ename": "ValueError",
     "evalue": "too many values to unpack (expected 3)",
     "output_type": "error",
     "traceback": [
      "\u001b[1;31m---------------------------------------------------------------------------\u001b[0m",
      "\u001b[1;31mValueError\u001b[0m                                Traceback (most recent call last)",
      "\u001b[1;32m<ipython-input-2-c324bd2f909f>\u001b[0m in \u001b[0;36m<module>\u001b[1;34m\u001b[0m\n\u001b[1;32m----> 1\u001b[1;33m \u001b[0ma\u001b[0m\u001b[1;33m,\u001b[0m \u001b[0mb\u001b[0m\u001b[1;33m,\u001b[0m \u001b[0mc\u001b[0m \u001b[1;33m=\u001b[0m \u001b[0mstring\u001b[0m                 \u001b[1;31m# Error if not\u001b[0m\u001b[1;33m\u001b[0m\u001b[1;33m\u001b[0m\u001b[0m\n\u001b[0m",
      "\u001b[1;31mValueError\u001b[0m: too many values to unpack (expected 3)"
     ]
    }
   ],
   "source": [
    "a, b, c = string                 # Error if not"
   ]
  },
  {
   "cell_type": "code",
   "execution_count": 3,
   "metadata": {},
   "outputs": [
    {
     "data": {
      "text/plain": [
       "('S', 'P', 'AM')"
      ]
     },
     "execution_count": 3,
     "metadata": {},
     "output_type": "execute_result"
    }
   ],
   "source": [
    "a, b, c = string[0], string[1], string[2:]        # Index and slice\n",
    "a, b, c"
   ]
  },
  {
   "cell_type": "code",
   "execution_count": 4,
   "metadata": {},
   "outputs": [
    {
     "data": {
      "text/plain": [
       "('S', 'P', 'AM')"
      ]
     },
     "execution_count": 4,
     "metadata": {},
     "output_type": "execute_result"
    }
   ],
   "source": [
    "a, b, c = list(string[:2]) + [string[2:]]         # Slice and concatenate\n",
    "a, b, c"
   ]
  },
  {
   "cell_type": "code",
   "execution_count": 5,
   "metadata": {},
   "outputs": [
    {
     "data": {
      "text/plain": [
       "('S', 'P', 'AM')"
      ]
     },
     "execution_count": 5,
     "metadata": {},
     "output_type": "execute_result"
    }
   ],
   "source": [
    "a, b = string[:2]                                 # Same, but simpler\n",
    "c = string[2:]\n",
    "a, b, c"
   ]
  },
  {
   "cell_type": "code",
   "execution_count": 6,
   "metadata": {},
   "outputs": [
    {
     "data": {
      "text/plain": [
       "('S', 'P', 'AM')"
      ]
     },
     "execution_count": 6,
     "metadata": {},
     "output_type": "execute_result"
    }
   ],
   "source": [
    "(a, b), c = string[:2], string[2:]                # Nested sequences\n",
    "a, b, c"
   ]
  },
  {
   "cell_type": "code",
   "execution_count": 7,
   "metadata": {},
   "outputs": [
    {
     "data": {
      "text/plain": [
       "('S', 'P', 'AM')"
      ]
     },
     "execution_count": 7,
     "metadata": {},
     "output_type": "execute_result"
    }
   ],
   "source": [
    "((a, b), c) = ('SP', 'AM')                        # Paired by shape and position\n",
    "a, b, c"
   ]
  },
  {
   "cell_type": "code",
   "execution_count": 8,
   "metadata": {},
   "outputs": [
    {
     "data": {
      "text/plain": [
       "(0, 2)"
      ]
     },
     "execution_count": 8,
     "metadata": {},
     "output_type": "execute_result"
    }
   ],
   "source": [
    "red, green, blue = range(3)\n",
    "red, blue"
   ]
  },
  {
   "cell_type": "code",
   "execution_count": 9,
   "metadata": {},
   "outputs": [
    {
     "data": {
      "text/plain": [
       "[0, 1, 2]"
      ]
     },
     "execution_count": 9,
     "metadata": {},
     "output_type": "execute_result"
    }
   ],
   "source": [
    "list(range(3))                                    # list() required in Python 3.X only"
   ]
  },
  {
   "cell_type": "code",
   "execution_count": 10,
   "metadata": {},
   "outputs": [
    {
     "name": "stdout",
     "output_type": "stream",
     "text": [
      "1 [2, 3, 4]\n",
      "2 [3, 4]\n",
      "3 [4]\n",
      "4 []\n"
     ]
    }
   ],
   "source": [
    "L = [1, 2, 3, 4]\n",
    "while L:\n",
    "    front, L = L[0], L[1:]                        # See next section for 3.X * alternative\n",
    "    print(front, L)"
   ]
  },
  {
   "cell_type": "markdown",
   "metadata": {},
   "source": [
    "### Extended Sequence Unpacking in Python 3.X"
   ]
  },
  {
   "cell_type": "markdown",
   "metadata": {},
   "source": [
    "#### Extended unpacking in action"
   ]
  },
  {
   "cell_type": "code",
   "execution_count": 11,
   "metadata": {},
   "outputs": [],
   "source": [
    "seq = [1, 2, 3, 4]"
   ]
  },
  {
   "cell_type": "code",
   "execution_count": 12,
   "metadata": {},
   "outputs": [
    {
     "name": "stdout",
     "output_type": "stream",
     "text": [
      "1 2 3 4\n"
     ]
    }
   ],
   "source": [
    "a, b, c, d = seq\n",
    "print(a, b, c, d)"
   ]
  },
  {
   "cell_type": "code",
   "execution_count": 13,
   "metadata": {},
   "outputs": [
    {
     "ename": "ValueError",
     "evalue": "too many values to unpack (expected 2)",
     "output_type": "error",
     "traceback": [
      "\u001b[1;31m---------------------------------------------------------------------------\u001b[0m",
      "\u001b[1;31mValueError\u001b[0m                                Traceback (most recent call last)",
      "\u001b[1;32m<ipython-input-13-8a1b49c05b5f>\u001b[0m in \u001b[0;36m<module>\u001b[1;34m\u001b[0m\n\u001b[1;32m----> 1\u001b[1;33m \u001b[0ma\u001b[0m\u001b[1;33m,\u001b[0m \u001b[0mb\u001b[0m \u001b[1;33m=\u001b[0m \u001b[0mseq\u001b[0m\u001b[1;33m\u001b[0m\u001b[1;33m\u001b[0m\u001b[0m\n\u001b[0m",
      "\u001b[1;31mValueError\u001b[0m: too many values to unpack (expected 2)"
     ]
    }
   ],
   "source": [
    "a, b = seq"
   ]
  },
  {
   "cell_type": "code",
   "execution_count": 14,
   "metadata": {},
   "outputs": [
    {
     "data": {
      "text/plain": [
       "1"
      ]
     },
     "execution_count": 14,
     "metadata": {},
     "output_type": "execute_result"
    }
   ],
   "source": [
    "a, *b = seq\n",
    "a"
   ]
  },
  {
   "cell_type": "code",
   "execution_count": 15,
   "metadata": {},
   "outputs": [
    {
     "data": {
      "text/plain": [
       "[2, 3, 4]"
      ]
     },
     "execution_count": 15,
     "metadata": {},
     "output_type": "execute_result"
    }
   ],
   "source": [
    "b"
   ]
  },
  {
   "cell_type": "code",
   "execution_count": 16,
   "metadata": {},
   "outputs": [
    {
     "data": {
      "text/plain": [
       "[1, 2, 3]"
      ]
     },
     "execution_count": 16,
     "metadata": {},
     "output_type": "execute_result"
    }
   ],
   "source": [
    "*a, b = seq\n",
    "a"
   ]
  },
  {
   "cell_type": "code",
   "execution_count": 17,
   "metadata": {},
   "outputs": [
    {
     "data": {
      "text/plain": [
       "4"
      ]
     },
     "execution_count": 17,
     "metadata": {},
     "output_type": "execute_result"
    }
   ],
   "source": [
    "b"
   ]
  },
  {
   "cell_type": "code",
   "execution_count": 18,
   "metadata": {},
   "outputs": [
    {
     "data": {
      "text/plain": [
       "1"
      ]
     },
     "execution_count": 18,
     "metadata": {},
     "output_type": "execute_result"
    }
   ],
   "source": [
    "a, *b, c = seq\n",
    "a"
   ]
  },
  {
   "cell_type": "code",
   "execution_count": 19,
   "metadata": {},
   "outputs": [
    {
     "data": {
      "text/plain": [
       "[2, 3]"
      ]
     },
     "execution_count": 19,
     "metadata": {},
     "output_type": "execute_result"
    }
   ],
   "source": [
    "b"
   ]
  },
  {
   "cell_type": "code",
   "execution_count": 20,
   "metadata": {},
   "outputs": [
    {
     "data": {
      "text/plain": [
       "4"
      ]
     },
     "execution_count": 20,
     "metadata": {},
     "output_type": "execute_result"
    }
   ],
   "source": [
    "c"
   ]
  },
  {
   "cell_type": "code",
   "execution_count": 21,
   "metadata": {},
   "outputs": [
    {
     "data": {
      "text/plain": [
       "1"
      ]
     },
     "execution_count": 21,
     "metadata": {},
     "output_type": "execute_result"
    }
   ],
   "source": [
    "a, b, *c = seq\n",
    "a"
   ]
  },
  {
   "cell_type": "code",
   "execution_count": 22,
   "metadata": {},
   "outputs": [
    {
     "data": {
      "text/plain": [
       "2"
      ]
     },
     "execution_count": 22,
     "metadata": {},
     "output_type": "execute_result"
    }
   ],
   "source": [
    "b"
   ]
  },
  {
   "cell_type": "code",
   "execution_count": 23,
   "metadata": {},
   "outputs": [
    {
     "data": {
      "text/plain": [
       "[3, 4]"
      ]
     },
     "execution_count": 23,
     "metadata": {},
     "output_type": "execute_result"
    }
   ],
   "source": [
    "c"
   ]
  },
  {
   "cell_type": "code",
   "execution_count": 24,
   "metadata": {},
   "outputs": [
    {
     "data": {
      "text/plain": [
       "('s', ['p', 'a', 'm'])"
      ]
     },
     "execution_count": 24,
     "metadata": {},
     "output_type": "execute_result"
    }
   ],
   "source": [
    "a, *b = 'spam'\n",
    "a, b"
   ]
  },
  {
   "cell_type": "code",
   "execution_count": 25,
   "metadata": {},
   "outputs": [
    {
     "data": {
      "text/plain": [
       "('s', ['p', 'a'], 'm')"
      ]
     },
     "execution_count": 25,
     "metadata": {},
     "output_type": "execute_result"
    }
   ],
   "source": [
    "a, *b, c = 'spam'\n",
    "a, b, c"
   ]
  },
  {
   "cell_type": "code",
   "execution_count": 27,
   "metadata": {},
   "outputs": [
    {
     "data": {
      "text/plain": [
       "(0, [1, 2], 3)"
      ]
     },
     "execution_count": 27,
     "metadata": {},
     "output_type": "execute_result"
    }
   ],
   "source": [
    "a, *b, c = range(4)\n",
    "a, b, c"
   ]
  },
  {
   "cell_type": "code",
   "execution_count": 2,
   "metadata": {},
   "outputs": [],
   "source": [
    "S = 'spam'"
   ]
  },
  {
   "cell_type": "code",
   "execution_count": 3,
   "metadata": {},
   "outputs": [
    {
     "data": {
      "text/plain": [
       "('s', 'pam')"
      ]
     },
     "execution_count": 3,
     "metadata": {},
     "output_type": "execute_result"
    }
   ],
   "source": [
    "S[0], S[1:]"
   ]
  },
  {
   "cell_type": "code",
   "execution_count": 4,
   "metadata": {},
   "outputs": [
    {
     "data": {
      "text/plain": [
       "('s', 'pa', 'm')"
      ]
     },
     "execution_count": 4,
     "metadata": {},
     "output_type": "execute_result"
    }
   ],
   "source": [
    "S[0], S[1:3], S[3]"
   ]
  },
  {
   "cell_type": "markdown",
   "metadata": {},
   "source": [
    "#### Boundary cases"
   ]
  },
  {
   "cell_type": "code",
   "execution_count": 5,
   "metadata": {},
   "outputs": [
    {
     "name": "stdout",
     "output_type": "stream",
     "text": [
      "1 2 3 [4]\n"
     ]
    }
   ],
   "source": [
    "seq = [1, 2, 3, 4]\n",
    "a, b, c, *d = seq\n",
    "print(a, b, c, d)"
   ]
  },
  {
   "cell_type": "code",
   "execution_count": 6,
   "metadata": {},
   "outputs": [
    {
     "name": "stdout",
     "output_type": "stream",
     "text": [
      "1 2 3 4 []\n"
     ]
    }
   ],
   "source": [
    "a, b, c, d, *e = seq\n",
    "print(a, b, c, d, e)"
   ]
  },
  {
   "cell_type": "code",
   "execution_count": 7,
   "metadata": {},
   "outputs": [
    {
     "name": "stdout",
     "output_type": "stream",
     "text": [
      "1 2 3 4 []\n"
     ]
    }
   ],
   "source": [
    "a, b, *e, c, d = seq\n",
    "print(a, b, c, d, e)"
   ]
  },
  {
   "cell_type": "code",
   "execution_count": 8,
   "metadata": {},
   "outputs": [
    {
     "ename": "SyntaxError",
     "evalue": "two starred expressions in assignment (<ipython-input-8-c1609b2af02c>, line 1)",
     "output_type": "error",
     "traceback": [
      "\u001b[1;36m  File \u001b[1;32m\"<ipython-input-8-c1609b2af02c>\"\u001b[1;36m, line \u001b[1;32m1\u001b[0m\n\u001b[1;33m    a, *b, c, *d = seq\u001b[0m\n\u001b[1;37m    ^\u001b[0m\n\u001b[1;31mSyntaxError\u001b[0m\u001b[1;31m:\u001b[0m two starred expressions in assignment\n"
     ]
    }
   ],
   "source": [
    "a, *b, c, *d = seq"
   ]
  },
  {
   "cell_type": "code",
   "execution_count": 9,
   "metadata": {},
   "outputs": [
    {
     "ename": "ValueError",
     "evalue": "too many values to unpack (expected 2)",
     "output_type": "error",
     "traceback": [
      "\u001b[1;31m---------------------------------------------------------------------------\u001b[0m",
      "\u001b[1;31mValueError\u001b[0m                                Traceback (most recent call last)",
      "\u001b[1;32m<ipython-input-9-8a1b49c05b5f>\u001b[0m in \u001b[0;36m<module>\u001b[1;34m\u001b[0m\n\u001b[1;32m----> 1\u001b[1;33m \u001b[0ma\u001b[0m\u001b[1;33m,\u001b[0m \u001b[0mb\u001b[0m \u001b[1;33m=\u001b[0m \u001b[0mseq\u001b[0m\u001b[1;33m\u001b[0m\u001b[1;33m\u001b[0m\u001b[0m\n\u001b[0m",
      "\u001b[1;31mValueError\u001b[0m: too many values to unpack (expected 2)"
     ]
    }
   ],
   "source": [
    "a, b = seq"
   ]
  },
  {
   "cell_type": "code",
   "execution_count": 10,
   "metadata": {},
   "outputs": [
    {
     "ename": "SyntaxError",
     "evalue": "starred assignment target must be in a list or tuple (<ipython-input-10-0c03164bd60a>, line 1)",
     "output_type": "error",
     "traceback": [
      "\u001b[1;36m  File \u001b[1;32m\"<ipython-input-10-0c03164bd60a>\"\u001b[1;36m, line \u001b[1;32m1\u001b[0m\n\u001b[1;33m    *a = seq\u001b[0m\n\u001b[1;37m    ^\u001b[0m\n\u001b[1;31mSyntaxError\u001b[0m\u001b[1;31m:\u001b[0m starred assignment target must be in a list or tuple\n"
     ]
    }
   ],
   "source": [
    "*a = seq"
   ]
  },
  {
   "cell_type": "code",
   "execution_count": 12,
   "metadata": {},
   "outputs": [
    {
     "data": {
      "text/plain": [
       "[1, 2, 3, 4]"
      ]
     },
     "execution_count": 12,
     "metadata": {},
     "output_type": "execute_result"
    }
   ],
   "source": [
    "*a, = seq\n",
    "a"
   ]
  },
  {
   "cell_type": "markdown",
   "metadata": {},
   "source": [
    "#### A useful convenience"
   ]
  },
  {
   "cell_type": "code",
   "execution_count": 13,
   "metadata": {},
   "outputs": [
    {
     "data": {
      "text/plain": [
       "[1, 2, 3, 4]"
      ]
     },
     "execution_count": 13,
     "metadata": {},
     "output_type": "execute_result"
    }
   ],
   "source": [
    "seq"
   ]
  },
  {
   "cell_type": "code",
   "execution_count": 15,
   "metadata": {},
   "outputs": [
    {
     "data": {
      "text/plain": [
       "(1, [2, 3, 4])"
      ]
     },
     "execution_count": 15,
     "metadata": {},
     "output_type": "execute_result"
    }
   ],
   "source": [
    "a, *b = seq                     # First, rest\n",
    "a, b"
   ]
  },
  {
   "cell_type": "code",
   "execution_count": 16,
   "metadata": {},
   "outputs": [
    {
     "data": {
      "text/plain": [
       "(1, [2, 3, 4])"
      ]
     },
     "execution_count": 16,
     "metadata": {},
     "output_type": "execute_result"
    }
   ],
   "source": [
    "a, b = seq[0], seq[1:]          # First, rest: traditional\n",
    "a, b"
   ]
  },
  {
   "cell_type": "code",
   "execution_count": 17,
   "metadata": {},
   "outputs": [
    {
     "data": {
      "text/plain": [
       "([1, 2, 3], 4)"
      ]
     },
     "execution_count": 17,
     "metadata": {},
     "output_type": "execute_result"
    }
   ],
   "source": [
    "*a, b = seq                     # Rest, last\n",
    "a, b"
   ]
  },
  {
   "cell_type": "code",
   "execution_count": 18,
   "metadata": {},
   "outputs": [
    {
     "data": {
      "text/plain": [
       "([1, 2, 3], 4)"
      ]
     },
     "execution_count": 18,
     "metadata": {},
     "output_type": "execute_result"
    }
   ],
   "source": [
    "a, b = seq[:-1], seq[-1]        # Rest, last: traditional\n",
    "a, b"
   ]
  },
  {
   "cell_type": "markdown",
   "metadata": {},
   "source": [
    "### Augmented Assignments"
   ]
  },
  {
   "cell_type": "markdown",
   "metadata": {},
   "source": [
    "<pre>\n",
    "X = X + Y                # Traditional form\n",
    "X += Y                   # Newer augmented form\n",
    "</pre>"
   ]
  },
  {
   "cell_type": "markdown",
   "metadata": {},
   "source": [
    "<table>\n",
    "    <tr>\n",
    "        <td><div align=left><code>X += Y</code>\n",
    "        <td><div align=left><code>X &= Y</code>\n",
    "        <td><div align=left><code>X -= Y</code>\n",
    "        <td><div align=left><code>X |= Y</code>\n",
    "    <tr>\n",
    "        <td><div align=left><code>X *= Y</code>\n",
    "        <td><div align=left><code>X ^= Y</code>\n",
    "        <td><div align=left><code>X /= Y</code>\n",
    "        <td><div align=left><code>X >>= Y</code>\n",
    "    <tr>\n",
    "        <td><div align=left><code>X %= Y</code>\n",
    "        <td><div align=left><code>X <<= Y</code>\n",
    "        <td><div align=left><code>X **= Y</code>\n",
    "        <td><div align=left><code>X //= Y</code>\n",
    "    </table>"
   ]
  },
  {
   "cell_type": "code",
   "execution_count": 19,
   "metadata": {},
   "outputs": [
    {
     "data": {
      "text/plain": [
       "2"
      ]
     },
     "execution_count": 19,
     "metadata": {},
     "output_type": "execute_result"
    }
   ],
   "source": [
    "x = 1\n",
    "x = x + 1                     # Traditional\n",
    "x"
   ]
  },
  {
   "cell_type": "code",
   "execution_count": 20,
   "metadata": {},
   "outputs": [
    {
     "data": {
      "text/plain": [
       "3"
      ]
     },
     "execution_count": 20,
     "metadata": {},
     "output_type": "execute_result"
    }
   ],
   "source": [
    "x += 1                        # Augmented\n",
    "x"
   ]
  },
  {
   "cell_type": "markdown",
   "metadata": {},
   "source": [
    "## Print Command"
   ]
  },
  {
   "cell_type": "code",
   "execution_count": 5,
   "metadata": {},
   "outputs": [
    {
     "name": "stdout",
     "output_type": "stream",
     "text": [
      " 3 \n"
     ]
    }
   ],
   "source": [
    "a = 3\n",
    "print(\" %d \"%a)"
   ]
  },
  {
   "cell_type": "code",
   "execution_count": 6,
   "metadata": {},
   "outputs": [
    {
     "name": "stdout",
     "output_type": "stream",
     "text": [
      "b = 2.75\n"
     ]
    }
   ],
   "source": [
    "b = 2.7532\n",
    "print('b = %3.2f'%b)"
   ]
  },
  {
   "cell_type": "code",
   "execution_count": null,
   "metadata": {},
   "outputs": [],
   "source": []
  }
 ],
 "metadata": {
  "kernelspec": {
   "display_name": "Python 3",
   "language": "python",
   "name": "python3"
  },
  "language_info": {
   "codemirror_mode": {
    "name": "ipython",
    "version": 3
   },
   "file_extension": ".py",
   "mimetype": "text/x-python",
   "name": "python",
   "nbconvert_exporter": "python",
   "pygments_lexer": "ipython3",
   "version": "3.8.7"
  }
 },
 "nbformat": 4,
 "nbformat_minor": 4
}
